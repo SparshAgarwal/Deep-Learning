{
 "cells": [
  {
   "cell_type": "code",
   "execution_count": 1,
   "metadata": {
    "collapsed": false
   },
   "outputs": [],
   "source": [
    "import numpy as np\n",
    "import scipy\n",
    "import librosa.display\n",
    "import librosa"
   ]
  },
  {
   "cell_type": "code",
   "execution_count": 2,
   "metadata": {
    "collapsed": true
   },
   "outputs": [],
   "source": [
    "def display_linear_frequency_spectogram(filename, num_samples=5000):\n",
    "    x, rate = librosa.load(filename)\n",
    "    x = x[:num_samples]\n",
    "    \n",
    "    D = librosa.amplitude_to_db(librosa.stft(x), ref=np.max)\n",
    "    librosa.display.specshow(D, y_axis='linear')\n",
    "    plt.colorbar(format='%+2.0f dB')\n",
    "    plt.title('Linear-frequency power spectogram')\n",
    "    plt.show()"
   ]
  },
  {
   "cell_type": "code",
   "execution_count": 107,
   "metadata": {
    "collapsed": false
   },
   "outputs": [],
   "source": [
    "# Split feature wavfile into n feature vectors where each feature vector is a second long\n",
    "def get_feature_vector(filename, n, label):\n",
    "    rate, x = scipy.io.wavfile.read(filename)\n",
    "    \n",
    "    features = []\n",
    "    \n",
    "    for i in range(n):\n",
    "        y = x[rate * i: rate * (i + 1)]\n",
    "        \n",
    "        # Currently using only chroma_stft (12 chromagrams)\n",
    "        features.append([librosa.feature.chroma_stft(y, rate, hop_length=rate*2).flatten(), label])\n",
    "    \n",
    "    return features"
   ]
  },
  {
   "cell_type": "code",
   "execution_count": null,
   "metadata": {
    "collapsed": false
   },
   "outputs": [
    {
     "name": "stderr",
     "output_type": "stream",
     "text": [
      "/usr/local/lib/python3.5/dist-packages/librosa/core/pitch.py:145: UserWarning: Trying to estimate tuning from empty frequency set.\n",
      "  warnings.warn('Trying to estimate tuning from empty frequency set.')\n"
     ]
    }
   ],
   "source": [
    "feature_set_1 = get_feature_vector('./working_data/optic1_20.wav', 500, 0)\n",
    "feature_set_2 = get_feature_vector('./working_data/abbott1_20.wav', 500, 1)\n",
    "feature_set_3 = get_feature_vector('./working_data/aeschylus1_20.wav', 500, 2)\n",
    "feature_set_4 = get_feature_vector('./working_data/optic2_20.wav', 500, 0)\n",
    "feature_set_5 = get_feature_vector('./working_data/abbott2_20.wav', 500, 1)\n",
    "feature_set_6 = get_feature_vector('./working_data/aeschylus2_20.wav', 500, 2)"
   ]
  },
  {
   "cell_type": "code",
   "execution_count": 163,
   "metadata": {
    "collapsed": false
   },
   "outputs": [],
   "source": [
    "examples = np.array(feature_set_1 + feature_set_2 + feature_set_3 + feature_set_4 + featu)\n",
    "np.random.shuffle(examples)\n",
    "training = examples[:1300]\n",
    "testing = examples[1300:]"
   ]
  },
  {
   "cell_type": "code",
   "execution_count": 146,
   "metadata": {
    "collapsed": true
   },
   "outputs": [],
   "source": [
    "from sklearn import neighbors"
   ]
  },
  {
   "cell_type": "code",
   "execution_count": 164,
   "metadata": {
    "collapsed": false
   },
   "outputs": [
    {
     "data": {
      "text/plain": [
       "KNeighborsClassifier(algorithm='auto', leaf_size=30, metric='minkowski',\n",
       "           metric_params=None, n_jobs=1, n_neighbors=5, p=2,\n",
       "           weights='uniform')"
      ]
     },
     "execution_count": 164,
     "metadata": {},
     "output_type": "execute_result"
    }
   ],
   "source": [
    "knn = neighbors.KNeighborsClassifier()\n",
    "features = np.vstack(training[:,0])\n",
    "labels = training[:,1].astype(np.int)\n",
    "knn.fit(features, labels)"
   ]
  },
  {
   "cell_type": "code",
   "execution_count": 165,
   "metadata": {
    "collapsed": false
   },
   "outputs": [
    {
     "data": {
      "text/plain": [
       "0.56999999999999995"
      ]
     },
     "execution_count": 165,
     "metadata": {},
     "output_type": "execute_result"
    }
   ],
   "source": [
    "features1 = np.vstack(testing[:,0])\n",
    "labels1 = testing[:,1].astype(np.int)\n",
    "knn.score(features1, labels1)"
   ]
  }
 ],
 "metadata": {
  "kernelspec": {
   "display_name": "Python 3",
   "language": "python",
   "name": "python3"
  },
  "language_info": {
   "codemirror_mode": {
    "name": "ipython",
    "version": 3
   },
   "file_extension": ".py",
   "mimetype": "text/x-python",
   "name": "python",
   "nbconvert_exporter": "python",
   "pygments_lexer": "ipython3",
   "version": "3.5.2"
  }
 },
 "nbformat": 4,
 "nbformat_minor": 1
}
