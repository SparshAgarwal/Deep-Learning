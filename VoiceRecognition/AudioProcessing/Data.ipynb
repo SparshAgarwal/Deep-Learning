{
 "cells": [
  {
   "cell_type": "markdown",
   "metadata": {},
   "source": [
    "# Data Source\n",
    "### Note: Solo English Speakers\n",
    "### Speaker 1: Brett W. Downey\n",
    "#### Book Title: David Crockett: His Life and Adventures\n",
    "[Audio_File_1](http://www.archive.org/download/davidcrockett_bd_librivox/davidcrockett_01_abbott.mp3) [Audio_File_2](http://www.archive.org/download/davidcrockett_bd_librivox/davidcrockett_02_abbott.mp3)\n",
    "\n",
    "### Speaker 2: Lucy Burgoyne\n",
    "#### Book Title: The Birthday Party, A Story for Little Folks\n",
    "[Audio_File_1](http://www.archive.org/download/birthday_party_lb_librivox/birthday_party_01_optic.mp3) [Audio_File_2](http://www.archive.org/download/birthday_party_lb_librivox/birthday_party_02_optic.mp3)\n",
    "\n",
    "### Speaker 3: Don W. Jenkins\n",
    "#### Book Title: Brood of the Witch Queen\n",
    "[Audio_File_1](http://www.archive.org/download/broodofthewitchqueen_1705_librivox/broodofwitchqueen_03_rohmer_128kb.mp3) [Audio_File_2](http://www.archive.org/download/broodofthewitchqueen_1705_librivox/broodofwitchqueen_05_rohmer_128kb.mp3)\n",
    "\n",
    "### Speaker 4: Lilith Branda\n",
    "#### Book Title: Orientations\n",
    "[Audio_File_1](http://www.archive.org/download/orientations_1705_librivox/orientations_01_maugham_128kb.mp3) [Audio_File_2](http://www.archive.org/download/orientations_1705_librivox/orientations_02_maugham_128kb.mp3)\n",
    "\n",
    "### Speaker 5: Ann Boulais\n",
    "#### Book Title: The Lives of the Queens of England, Volume 7\n",
    "[Audio_File_1](http://www.archive.org/download/queens_of_england_7_amb_1704_librivox/queensofengland7_01_strickland_128kb.mp3) [Audio_File_2](http://www.archive.org/download/queens_of_england_7_amb_1704_librivox/queensofengland7_02_strickland_128kb.mp3)\n",
    "\n",
    "### Speaker 6: David Wales\n",
    "#### Book Title: The British Army From Within\n",
    "[Audio_File_1](http://www.archive.org/download/britisharmywithin_1704_librivox/britisharmy_01_vivian_128kb.mp3) [Audio_File_2](http://www.archive.org/download/britisharmywithin_1704_librivox/britisharmy_02_vivian_128kb.mp3)\n",
    "\n"
   ]
  }
 ],
 "metadata": {
  "kernelspec": {
   "display_name": "Python 3",
   "language": "python",
   "name": "python3"
  },
  "language_info": {
   "codemirror_mode": {
    "name": "ipython",
    "version": 3
   },
   "file_extension": ".py",
   "mimetype": "text/x-python",
   "name": "python",
   "nbconvert_exporter": "python",
   "pygments_lexer": "ipython3",
   "version": "3.5.2"
  }
 },
 "nbformat": 4,
 "nbformat_minor": 1
}
